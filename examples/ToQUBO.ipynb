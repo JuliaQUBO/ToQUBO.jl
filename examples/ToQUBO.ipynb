{
 "cells": [
  {
   "cell_type": "code",
   "execution_count": 42,
   "id": "931aa92e",
   "metadata": {},
   "outputs": [],
   "source": [
    "using Documenter;\n",
    "using Crayons;\n",
    "using Logging;\n",
    "using JuMP, MathOptInterface;\n",
    "using Gurobi;\n",
    "const MOI = MathOptInterface;\n",
    "const MOIU = MOI.Utilities;"
   ]
  },
  {
   "cell_type": "markdown",
   "id": "06cbbfdf",
   "metadata": {},
   "source": [
    "# LP Knapsack Problem\n",
    "\n",
    "$$\n",
    "\\begin{array}{rl}\n",
    "    \\max & \\mathbf{c}^{\\small\\mathbf{\\text{T}}}\\mathbf{x} \\\\\n",
    "    \\text{s.t.} & \\mathbf{w}^{\\small\\mathbf{\\text{T}}}\\mathbf{x} \\le C\\\\\n",
    "    ~ & \\mathbf{x}_i \\in \\{0, 1\\}\n",
    "\\end{array}\n",
    "$$"
   ]
  },
  {
   "cell_type": "code",
   "execution_count": 43,
   "id": "8657ad93",
   "metadata": {},
   "outputs": [],
   "source": [
    "# Model definition\n",
    "# References:\n",
    "# [1] https://jump.dev/MathOptInterface.jl/stable/tutorials/example/\n",
    "\n",
    "model = MOIU.Model{Float64}()\n",
    "\n",
    "n = 3;\n",
    "c = [1.0, 2.0, 3.0];\n",
    "w = [3.0, 5.0, 10.0];\n",
    "C = 32.0;\n",
    "\n",
    "x = MOI.add_variables(model, n);\n",
    "\n",
    "# ---------\n",
    "# Objective\n",
    "# ---------\n",
    "MOI.set(model, MOI.ObjectiveSense(), MOI.MAX_SENSE)\n",
    "\n",
    "MOI.set(\n",
    "   model,\n",
    "   MOI.ObjectiveFunction{MOI.ScalarAffineFunction{Float64}}(),\n",
    "   MOI.ScalarAffineFunction(MOI.ScalarAffineTerm.(c, x), 0.0),\n",
    ");\n",
    "\n",
    "# -----------\n",
    "# Constraints\n",
    "# -----------\n",
    "MOI.add_constraint(\n",
    "   model,\n",
    "   MOI.ScalarAffineFunction(MOI.ScalarAffineTerm.(w, x), 0.0),\n",
    "   MOI.LessThan(C),\n",
    ");\n",
    "\n",
    "# for xᵢ in x\n",
    "#    MOI.add_constraint(model, xᵢ, MOI.ZeroOne())\n",
    "# end"
   ]
  },
  {
   "cell_type": "code",
   "execution_count": 44,
   "id": "cd29ba98",
   "metadata": {},
   "outputs": [
    {
     "name": "stdout",
     "output_type": "stream",
     "text": [
      "0.05 x₂ x₁₂ + 0.125 x₅ x₁ + 0.05 x₄ x₁₂ - 0.5499107142857143 x₅ - 0.1843452380952381 x₁ - 0.38994047619047617 x₉ + 0.015 x₁₀ x₉ + 0.0125 x₄ x₁₀ + 0.09 x₉ x₈ + 0.25 x₆ x₁ + 0.5 x₅ x₃ - 0.11436011904761904 x₇ + 0.025 x₄ x₁₁ + 0.3 x₉ x₃ + 0.05 x₆ x₁₀ + 0.25 x₂ x₃ + 1.0 x₅ x₆ + 0.2 x₆ x₁₂ + 0.045 x₇ x₉ + 0.125 x₄ x₂ - 0.5498809523809524 x₃ + 0.15 x₂ x₉ + 0.15 x₄ x₉ + 0.0025 x₁₁ x₁₀ + 0.01875 x₇ x₁ - 0.2174702380952381 x₈ + 0.1 x₆ x₁₁ + 0.005 x₁₀ x₁₂ - 0.3374553571428571 x₄ + 0.03 x₁₂ x₈ + 1.0 x₆ x₃ + 0.5 x₄ x₆ + 0.075 x₉ x₁ + 0.5 x₆ x₂ + 0.015 x₇ x₁₂ - 0.5998214285714286 x₆ + 0.0625 x₄ x₁ + 0.075 x₂ x₈ + 0.0125 x₁₁ x₁ + 0.0625 x₂ x₁ + 0.0375 x₄ x₇ + 0.025 x₂ x₁₁ + 0.1 x₅ x₁₂ + 0.0375 x₇ x₂ + 0.25 x₄ x₃ + 0.15 x₈ x₃ + 0.15 x₆ x₇ + 0.025 x₅ x₁₀ + 0.0375 x₈ x₁ + 0.025 x₁₀ x₃ - 0.3374404761904762 x₂ + 0.0075 x₁₀ x₈ + 0.125 x₃ x₁ + 0.025 x₁₂ x₁ + 0.0125 x₂ x₁₀ + 0.25 x₅ x₄ + 0.15 x₅ x₈ + 0.075 x₄ x₈ + 0.015 x₁₁ x₈ + 0.3 x₅ x₉ + 0.00625 x₁₀ x₁ + 0.05 x₁₁ x₃ + 0.075 x₇ x₃ + 0.01 x₁₁ x₁₂ - 0.039375 x₁₀ + 0.0075 x₇ x₁₁ + 0.00375 x₇ x₁₀ + 0.05 x₅ x₁₁ - 0.0775 x₁₁ + 0.0225 x₇ x₈ + 0.075 x₅ x₇ + 0.64 + 0.6 x₆ x₉ + 0.06 x₉ x₁₂ + 0.03 x₁₁ x₉ + 0.3 x₆ x₈ + 0.1 x₁₂ x₃ - 0.15 x₁₂ + 0.25 x₅ x₂\n",
      "\u001b[38;2;102;255;102mQUBO Success\u001b[38;2;255;255;255m\n"
     ]
    },
    {
     "name": "stderr",
     "output_type": "stream",
     "text": [
      "WARNING: replacing module ToQUBO.\n",
      "┌ Info: Original Binary Variables: \n",
      "└ @ Main.ToQUBO c:\\Users\\pedroxavier\\gits\\ToQUBO.jl\\src\\ToQUBO.jl:95\n"
     ]
    }
   ],
   "source": [
    "include(\"../src/ToQUBO.jl\")\n",
    "qubo = ToQUBO.toqubo(model)\n",
    "\n",
    "if ToQUBO.isqubo(qubo)\n",
    "    println(crayon\"#66ff66\", \"QUBO Success\", crayon\"#ffffff\")\n",
    "else\n",
    "    println(crayon\"#ff6666\", \"QUBO Failure\", crayon\"#ffffff\")\n",
    "end"
   ]
  },
  {
   "cell_type": "code",
   "execution_count": 45,
   "id": "99fda735",
   "metadata": {},
   "outputs": [
    {
     "data": {
      "text/plain": [
       "Dict{MathOptInterface.VariableIndex, Main.ToQUBO.VirtualVar} with 3 entries:\n",
       "  VariableIndex(2) => VirtualVar{VariableIndex, Float64}(3, MathOptInterface.Va…\n",
       "  VariableIndex(3) => VirtualVar{VariableIndex, Float64}(3, MathOptInterface.Va…\n",
       "  VariableIndex(1) => VirtualVar{VariableIndex, Float64}(3, MathOptInterface.Va…"
      ]
     },
     "execution_count": 45,
     "metadata": {},
     "output_type": "execute_result"
    }
   ],
   "source": [
    "qubo.varmap"
   ]
  },
  {
   "cell_type": "code",
   "execution_count": 46,
   "id": "d547e761",
   "metadata": {},
   "outputs": [
    {
     "data": {
      "text/plain": [
       "4-element Vector{Main.ToQUBO.VirtualVar}:\n",
       " Main.ToQUBO.VirtualVar{MathOptInterface.VariableIndex, Float64}(3, MathOptInterface.VariableIndex[MathOptInterface.VariableIndex(1), MathOptInterface.VariableIndex(2), MathOptInterface.VariableIndex(3)], :bin, 0, false, Union{Nothing, Float64}[nothing, nothing, nothing], [1.0, 2.0, 4.0])\n",
       " Main.ToQUBO.VirtualVar{MathOptInterface.VariableIndex, Float64}(3, MathOptInterface.VariableIndex[MathOptInterface.VariableIndex(4), MathOptInterface.VariableIndex(5), MathOptInterface.VariableIndex(6)], :bin, 0, false, Union{Nothing, Float64}[nothing, nothing, nothing], [1.0, 2.0, 4.0])\n",
       " Main.ToQUBO.VirtualVar{MathOptInterface.VariableIndex, Float64}(3, MathOptInterface.VariableIndex[MathOptInterface.VariableIndex(7), MathOptInterface.VariableIndex(8), MathOptInterface.VariableIndex(9)], :bin, 0, false, Union{Nothing, Float64}[nothing, nothing, nothing], [1.0, 2.0, 4.0])\n",
       " Main.ToQUBO.VirtualVar{MathOptInterface.VariableIndex, Float64}(3, MathOptInterface.VariableIndex[MathOptInterface.VariableIndex(10), MathOptInterface.VariableIndex(11), MathOptInterface.VariableIndex(12)], :bin, 0, true, Union{Nothing, Float64}[nothing, nothing, nothing], [1.0, 2.0, 4.0])"
      ]
     },
     "execution_count": 46,
     "metadata": {},
     "output_type": "execute_result"
    }
   ],
   "source": [
    "qubo.varvec"
   ]
  },
  {
   "cell_type": "code",
   "execution_count": null,
   "id": "4d14a0ed",
   "metadata": {},
   "outputs": [],
   "source": []
  }
 ],
 "metadata": {
  "kernelspec": {
   "display_name": "Julia 1.7.0",
   "language": "julia",
   "name": "julia-1.7"
  },
  "language_info": {
   "file_extension": ".jl",
   "mimetype": "application/julia",
   "name": "julia",
   "version": "1.7.0"
  }
 },
 "nbformat": 4,
 "nbformat_minor": 5
}
