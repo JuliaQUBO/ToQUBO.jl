{
 "cells": [
  {
   "cell_type": "code",
   "execution_count": 2,
   "id": "cd2dec47",
   "metadata": {},
   "outputs": [],
   "source": [
    "using ToQUBO"
   ]
  },
  {
   "cell_type": "markdown",
   "id": "06cbbfdf",
   "metadata": {},
   "source": [
    "# LP Knapsack Problem\n",
    "\n",
    "$$\n",
    "\\begin{array}{rl}\n",
    "    \\max & \\mathbf{c}^{\\small\\mathbf{\\text{T}}}\\mathbf{x} \\\\\n",
    "    \\text{s.t.} & \\mathbf{w}^{\\small\\mathbf{\\text{T}}}\\mathbf{x} \\le C\\\\\n",
    "    ~ & \\mathbf{x}_i \\in \\{0, 1\\}\n",
    "\\end{array}\n",
    "$$"
   ]
  },
  {
   "cell_type": "code",
   "execution_count": 3,
   "id": "55f077d7",
   "metadata": {},
   "outputs": [
    {
     "data": {
      "text/latex": [
       "$$ \\begin{aligned}\n",
       "\\max\\quad & 0.0 + 1.0 v_{1} + 2.0 v_{2} + 3.0 v_{3} \\\\\n",
       "\\text{Subject to}\\\\\n",
       " & \\text{ScalarAffineFunction{Float64}-in-LessThan{Float64}} \\\\\n",
       " & 0.0 + 0.3 v_{1} + 0.5 v_{2} + 1.0 v_{3} \\le 3.2 \\\\\n",
       " & \\text{VariableIndex-in-ZeroOne} \\\\\n",
       " & v_{1} \\in \\{0, 1\\} \\\\\n",
       " & v_{2} \\in \\{0, 1\\} \\\\\n",
       " & v_{3} \\in \\{0, 1\\} \\\\\n",
       "\\end{aligned} $$"
      ]
     },
     "metadata": {},
     "output_type": "display_data"
    },
    {
     "ename": "LoadError",
     "evalue": "MethodError: no method matching _single_variable_flag(::MathOptInterface.ZeroOne)\n\u001b[0mClosest candidates are:\n\u001b[0m  _single_variable_flag(\u001b[91m::Type{<:MathOptInterface.EqualTo}\u001b[39m) at C:\\Users\\pedroxavier\\.julia\\packages\\MathOptInterface\\jPhq9\\src\\Utilities\\variables_container.jl:68\n\u001b[0m  _single_variable_flag(\u001b[91m::Type{<:MathOptInterface.GreaterThan}\u001b[39m) at C:\\Users\\pedroxavier\\.julia\\packages\\MathOptInterface\\jPhq9\\src\\Utilities\\variables_container.jl:69\n\u001b[0m  _single_variable_flag(\u001b[91m::Type{<:MathOptInterface.LessThan}\u001b[39m) at C:\\Users\\pedroxavier\\.julia\\packages\\MathOptInterface\\jPhq9\\src\\Utilities\\variables_container.jl:70\n\u001b[0m  ...",
     "output_type": "error",
     "traceback": [
      "MethodError: no method matching _single_variable_flag(::MathOptInterface.ZeroOne)\n\u001b[0mClosest candidates are:\n\u001b[0m  _single_variable_flag(\u001b[91m::Type{<:MathOptInterface.EqualTo}\u001b[39m) at C:\\Users\\pedroxavier\\.julia\\packages\\MathOptInterface\\jPhq9\\src\\Utilities\\variables_container.jl:68\n\u001b[0m  _single_variable_flag(\u001b[91m::Type{<:MathOptInterface.GreaterThan}\u001b[39m) at C:\\Users\\pedroxavier\\.julia\\packages\\MathOptInterface\\jPhq9\\src\\Utilities\\variables_container.jl:69\n\u001b[0m  _single_variable_flag(\u001b[91m::Type{<:MathOptInterface.LessThan}\u001b[39m) at C:\\Users\\pedroxavier\\.julia\\packages\\MathOptInterface\\jPhq9\\src\\Utilities\\variables_container.jl:70\n\u001b[0m  ...",
      "",
      "Stacktrace:",
      " [1] get(b::MathOptInterface.Utilities.VariablesContainer{Float64}, #unused#::MathOptInterface.ListOfConstraintIndices{MathOptInterface.VariableIndex, MathOptInterface.ZeroOne()})",
      "   @ MathOptInterface.Utilities C:\\Users\\pedroxavier\\.julia\\packages\\MathOptInterface\\jPhq9\\src\\Utilities\\variables_container.jl:394",
      " [2] get(model::MathOptInterface.Utilities.Model{Float64}, attr::MathOptInterface.ListOfConstraintIndices{MathOptInterface.VariableIndex, MathOptInterface.ZeroOne()})",
      "   @ MathOptInterface.Utilities C:\\Users\\pedroxavier\\.julia\\packages\\MathOptInterface\\jPhq9\\src\\Utilities\\model.jl:438",
      " [3] toqubo_variables!(ℳ::MathOptInterface.Utilities.Model{Float64}, 𝒬::QUBOModel{Float64})",
      "   @ ToQUBO C:\\Users\\pedroxavier\\gits\\ToQUBO.jl\\src\\lib\\qubo.jl:213",
      " [4] toqubo(T::Type, ℳ::MathOptInterface.Utilities.Model{Float64}; sampler::Nothing)",
      "   @ ToQUBO C:\\Users\\pedroxavier\\gits\\ToQUBO.jl\\src\\lib\\qubo.jl:495",
      " [5] toqubo(T::Type, ℳ::MathOptInterface.Utilities.Model{Float64})",
      "   @ ToQUBO C:\\Users\\pedroxavier\\gits\\ToQUBO.jl\\src\\lib\\qubo.jl:488",
      " [6] top-level scope",
      "   @ In[3]:5",
      " [7] eval",
      "   @ .\\boot.jl:373 [inlined]",
      " [8] include_string(mapexpr::typeof(REPL.softscope), mod::Module, code::String, filename::String)",
      "   @ Base .\\loading.jl:1196"
     ]
    }
   ],
   "source": [
    "include(\"../test/models/knapsack.jl\")\n",
    "\n",
    "print(Knapsack.model)"
   ]
  },
  {
   "cell_type": "code",
   "execution_count": null,
   "id": "02e117ab",
   "metadata": {},
   "outputs": [],
   "source": []
  }
 ],
 "metadata": {
  "kernelspec": {
   "display_name": "Julia 1.7.0",
   "language": "julia",
   "name": "julia-1.7"
  },
  "language_info": {
   "file_extension": ".jl",
   "mimetype": "application/julia",
   "name": "julia",
   "version": "1.7.0"
  }
 },
 "nbformat": 4,
 "nbformat_minor": 5
}
