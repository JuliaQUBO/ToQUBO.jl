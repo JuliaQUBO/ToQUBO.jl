{
 "cells": [
  {
   "cell_type": "code",
   "execution_count": 5,
   "id": "931aa92e",
   "metadata": {},
   "outputs": [],
   "source": [
    "using Documenter;\n",
    "using Crayons;\n",
    "using Logging;\n",
    "using JuMP, MathOptInterface;\n",
    "using Gurobi;\n",
    "const MOI = MathOptInterface;\n",
    "const MOIU = MOI.Utilities;"
   ]
  },
  {
   "cell_type": "markdown",
   "id": "06cbbfdf",
   "metadata": {},
   "source": [
    "# LP Knapsack Problem\n",
    "\n",
    "$$\n",
    "\\begin{array}{rl}\n",
    "    \\max & \\mathbf{c}^{\\small\\mathbf{\\text{T}}}\\mathbf{x} \\\\\n",
    "    \\text{s.t.} & \\mathbf{w}^{\\small\\mathbf{\\text{T}}}\\mathbf{x} \\le C\\\\\n",
    "    ~ & \\mathbf{x}_i \\in \\{0, 1\\}\n",
    "\\end{array}\n",
    "$$"
   ]
  },
  {
   "cell_type": "code",
   "execution_count": 6,
   "id": "8657ad93",
   "metadata": {},
   "outputs": [],
   "source": [
    "# Model definition\n",
    "# References:\n",
    "# [1] https://jump.dev/MathOptInterface.jl/stable/tutorials/example/\n",
    "\n",
    "model = MOIU.Model{Float64}()\n",
    "\n",
    "n = 3;\n",
    "c = [1.0, 2.0, 3.0];  #  6.0\n",
    "w = [3.0, 5.0, 10.0]; # 18.0 (32.0 - 18.0 = 14.0) (expansion = 2.0 + 4.0 + 8.0 = 14.0)\n",
    "C = 32.0;\n",
    "\n",
    "x = MOI.add_variables(model, n);\n",
    "\n",
    "# ---------\n",
    "# Objective\n",
    "# ---------\n",
    "MOI.set(model, MOI.ObjectiveSense(), MOI.MAX_SENSE)\n",
    "\n",
    "MOI.set(\n",
    "   model,\n",
    "   MOI.ObjectiveFunction{MOI.ScalarAffineFunction{Float64}}(),\n",
    "   MOI.ScalarAffineFunction(MOI.ScalarAffineTerm.(c, x), 0.0),\n",
    ");\n",
    "\n",
    "# -----------\n",
    "# Constraints\n",
    "# -----------\n",
    "MOI.add_constraint(\n",
    "   model,\n",
    "   MOI.ScalarAffineFunction(MOI.ScalarAffineTerm.(w, x), 0.0),\n",
    "   MOI.LessThan(C),\n",
    ");\n",
    "\n",
    "for xᵢ in x\n",
    "   MOI.add_constraint(model, xᵢ, MOI.ZeroOne())\n",
    "end"
   ]
  },
  {
   "cell_type": "code",
   "execution_count": 7,
   "id": "02bf57d0",
   "metadata": {},
   "outputs": [],
   "source": [
    "success() = println(crayon\"#66ff66\", \"QUBO Success\", crayon\"#ffffff\");\n",
    "failure() = println(crayon\"#ff6666\", \"QUBO Failure\", crayon\"#ffffff\");"
   ]
  },
  {
   "cell_type": "code",
   "execution_count": 8,
   "id": "31976d10",
   "metadata": {},
   "outputs": [
    {
     "data": {
      "text/latex": [
       "$$ \\begin{aligned}\n",
       "\\max\\quad & -1.3333333333333333 + 0.2384982638888889 x₃ + 0.16145833333333334 s₅ + 0.3845486111111111 x₁ + 0.3125 s₆ + 1.0 s₈ + 0.08203125 s₄ + 0.5833333333333334 s₇ + 0.7037760416666666 x₂ - 0.052083333333333336 s₅\\times x₂ - 0.0625 s₇\\times x₃ - 0.026041666666666668 s₅\\times x₁ - 0.078125 x₂\\times x₃ - 0.10416666666666667 s₆\\times x₂ - 0.026041666666666668 s₄\\times x₂ - 0.020833333333333332 s₅\\times s₆ - 0.013020833333333334 s₄\\times x₁ - 0.4166666666666667 x₂\\times s₈ - 0.10416666666666667 s₇\\times x₁ - 0.13020833333333334 x₂\\times x₁ - 0.020833333333333332 s₄\\times s₇ - 0.3333333333333333 s₇\\times s₈ - 0.041666666666666664 s₅\\times s₇ - 0.20833333333333334 s₇\\times x₂ - 0.0078125 s₄\\times x₃ - 0.125 s₈\\times x₃ - 0.08333333333333333 s₆\\times s₇ - 0.20833333333333334 s₈\\times x₁ - 0.052083333333333336 s₆\\times x₁ - 0.015625 s₅\\times x₃ - 0.0390625 x₃\\times x₁ - 0.03125 s₆\\times x₃ - 0.010416666666666666 s₄\\times s₆ - 0.16666666666666666 s₆\\times s₈ - 0.005208333333333333 s₅\\times s₄ - 0.041666666666666664 s₄\\times s₈ - 0.08333333333333333 s₅\\times s₈ \\\\\n",
       "\\text{Subject to}\\\\\n",
       " & \\text{VariableIndex-in-ZeroOne} \\\\\n",
       " & x₁ \\in \\{0, 1\\} \\\\\n",
       " & x₂ \\in \\{0, 1\\} \\\\\n",
       " & x₃ \\in \\{0, 1\\} \\\\\n",
       " & s₄ \\in \\{0, 1\\} \\\\\n",
       " & s₅ \\in \\{0, 1\\} \\\\\n",
       " & s₆ \\in \\{0, 1\\} \\\\\n",
       " & s₇ \\in \\{0, 1\\} \\\\\n",
       " & s₈ \\in \\{0, 1\\} \\\\\n",
       "\\end{aligned} $$"
      ]
     },
     "metadata": {},
     "output_type": "display_data"
    },
    {
     "name": "stdout",
     "output_type": "stream",
     "text": [
      "\u001b[38;2;102;255;102mQUBO Success\u001b[38;2;255;255;255m\n",
      "Set parameter Username\n",
      "Academic license - for non-commercial use only - expires 2022-02-02\n",
      "Gurobi Optimizer version 9.5.0 build v9.5.0rc5 (win64)\n",
      "Thread count: 2 physical cores, 4 logical processors, using up to 4 threads\n",
      "Optimize a model with 0 rows, 8 columns and 0 nonzeros\n",
      "Model fingerprint: 0x62ca5f1b\n",
      "Model has 28 quadratic objective terms\n",
      "Variable types: 0 continuous, 8 integer (8 binary)\n",
      "Coefficient statistics:\n",
      "  Matrix range     [0e+00, 0e+00]\n",
      "  Objective range  [8e-02, 1e+00]\n",
      "  QObjective range [1e-02, 8e-01]\n",
      "  Bounds range     [0e+00, 0e+00]\n",
      "  RHS range        [0e+00, 0e+00]\n",
      "Found heuristic solution: objective -1.3333333\n",
      "Found heuristic solution: objective -0.3750000\n",
      "Found heuristic solution: objective 0.0013021\n",
      "Presolve time: 0.00s\n",
      "Presolved: 28 rows, 36 columns, 84 nonzeros\n",
      "Variable types: 0 continuous, 36 integer (36 binary)\n",
      "\n",
      "Root relaxation: objective -3.997396e-01, 15 iterations, 0.00 seconds (0.00 work units)\n",
      "\n",
      "    Nodes    |    Current Node    |     Objective Bounds      |     Work\n",
      " Expl Unexpl |  Obj  Depth IntInf | Incumbent    BestBd   Gap | It/Node Time\n",
      "\n",
      "     0     0    0.39974    0    8    0.00130    0.39974      -     -    0s\n",
      "     0     0    0.14149    0   36    0.00130    0.14149      -     -    0s\n",
      "     0     0    0.12934    0   34    0.00130    0.12934  9833%     -    0s\n",
      "     0     0    0.04644    0   17    0.00130    0.04644  3467%     -    0s\n",
      "     0     0    0.04644    0   17    0.00130    0.04644  3467%     -    0s\n",
      "     0     2    0.04644    0   17    0.00130    0.04644  3467%     -    0s\n",
      "\n",
      "Cutting planes:\n",
      "  Gomory: 1\n",
      "  MIR: 15\n",
      "  Zero half: 8\n",
      "  RLT: 1\n",
      "\n",
      "Explored 15 nodes (174 simplex iterations) in 0.02 seconds (0.01 work units)\n",
      "Thread count was 4 (of 4 available processors)\n",
      "\n",
      "Solution count 3: 0.00130208 -0.375 -1.33333 \n",
      "No other solutions better than 0.00130208\n",
      "\n",
      "Optimal solution found (tolerance 1.00e-04)\n",
      "Best objective 1.302083333333e-03, best bound 1.302083333333e-03, gap 0.0000%\n",
      "\n",
      "User-callback calls 145, time in user-callback 0.00 sec\n",
      "x₁ = 1.0\n",
      "x₂ = 1.0\n",
      "x₃ = 1.0\n",
      "s₄ = 0.0\n",
      "s₅ = 1.0\n",
      "s₆ = 1.0\n",
      "s₇ = 1.0\n",
      "s₈ = 0.0\n"
     ]
    },
    {
     "name": "stderr",
     "output_type": "stream",
     "text": [
      "WARNING: replacing module ToQUBO.\n",
      "┌ Info: Original Binary Variables: x₂ x₃ x₁\n",
      "└ @ Main.ToQUBO c:\\Users\\pedroxavier\\gits\\ToQUBO.jl\\src\\ToQUBO.jl:222\n",
      "┌ Info: Variables for expansion: ∅\n",
      "└ @ Main.ToQUBO c:\\Users\\pedroxavier\\gits\\ToQUBO.jl\\src\\ToQUBO.jl:224\n",
      "┌ Info: C = 32.0 (5 bits)\n",
      "└ @ Main.ToQUBO c:\\Users\\pedroxavier\\gits\\ToQUBO.jl\\src\\ToQUBO.jl:361\n"
     ]
    }
   ],
   "source": [
    "include(\"../src/ToQUBO.jl\")\n",
    "\n",
    "qubo = ToQUBO.toqubo(model)\n",
    "\n",
    "ToQUBO.isqubo(qubo) ? success() : failure();\n",
    "\n",
    "print(qubo.model);\n",
    "\n",
    "gurobi = Gurobi.Optimizer();\n",
    "varmap = MOI.copy_to(gurobi, qubo.model);\n",
    "MOI.optimize!(gurobi);\n",
    "\n",
    "for xᵢ in MOI.get(gurobi, MOI.ListOfVariableIndices())\n",
    "    vᵢ = varmap[xᵢ]\n",
    "    if ToQUBO.isslack(qubo.target[vᵢ])\n",
    "        var = \"s\"\n",
    "    else\n",
    "        var = \"x\"\n",
    "    end\n",
    "    println(ToQUBO.subscript(vᵢ, var=var), \" = \", MOI.get(gurobi, MOI.VariablePrimal(), xᵢ));\n",
    "end"
   ]
  }
 ],
 "metadata": {
  "kernelspec": {
   "display_name": "Julia 1.7.0",
   "language": "julia",
   "name": "julia-1.7"
  },
  "language_info": {
   "file_extension": ".jl",
   "mimetype": "application/julia",
   "name": "julia",
   "version": "1.7.0"
  }
 },
 "nbformat": 4,
 "nbformat_minor": 5
}
