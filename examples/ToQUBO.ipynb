{
 "cells": [
  {
   "cell_type": "code",
   "execution_count": null,
   "id": "931aa92e",
   "metadata": {},
   "outputs": [],
   "source": [
    "using Documenter;\n",
    "using Crayons;\n",
    "using Logging;\n",
    "using JuMP, MathOptInterface;\n",
    "using Gurobi;\n",
    "const MOI = MathOptInterface;\n",
    "const MOIU = MOI.Utilities;"
   ]
  },
  {
   "cell_type": "markdown",
   "id": "06cbbfdf",
   "metadata": {},
   "source": [
    "# LP Knapsack Problem\n",
    "\n",
    "$$\n",
    "\\begin{array}{rl}\n",
    "    \\max & \\mathbf{c}^{\\small\\mathbf{\\text{T}}}\\mathbf{x} \\\\\n",
    "    \\text{s.t.} & \\mathbf{w}^{\\small\\mathbf{\\text{T}}}\\mathbf{x} \\le C\\\\\n",
    "    ~ & \\mathbf{x}_i \\in \\{0, 1\\}\n",
    "\\end{array}\n",
    "$$"
   ]
  },
  {
   "cell_type": "code",
   "execution_count": null,
   "id": "8657ad93",
   "metadata": {},
   "outputs": [],
   "source": [
    "# Model definition\n",
    "# References:\n",
    "# [1] https://jump.dev/MathOptInterface.jl/stable/tutorials/example/\n",
    "\n",
    "model = MOIU.Model{Float64}()\n",
    "\n",
    "n = 3;\n",
    "c = [1.0, 2.0, 3.0];  #  6.0\n",
    "w = [3.0, 5.0, 10.0]; # 18.0 (32.0 - 18.0 = 14.0) (expansion = 2.0 + 4.0 + 8.0 = 14.0)\n",
    "C = 32.0;\n",
    "\n",
    "x = MOI.add_variables(model, n);\n",
    "\n",
    "# ---------\n",
    "# Objective\n",
    "# ---------\n",
    "MOI.set(model, MOI.ObjectiveSense(), MOI.MAX_SENSE)\n",
    "\n",
    "MOI.set(\n",
    "   model,\n",
    "   MOI.ObjectiveFunction{MOI.ScalarAffineFunction{Float64}}(),\n",
    "   MOI.ScalarAffineFunction(MOI.ScalarAffineTerm.(c, x), 0.0),\n",
    ");\n",
    "\n",
    "# -----------\n",
    "# Constraints\n",
    "# -----------\n",
    "MOI.add_constraint(\n",
    "   model,\n",
    "   MOI.ScalarAffineFunction(MOI.ScalarAffineTerm.(w, x), 0.0),\n",
    "   MOI.LessThan(C),\n",
    ");\n",
    "\n",
    "for xᵢ in x\n",
    "   MOI.add_constraint(model, xᵢ, MOI.ZeroOne())\n",
    "end"
   ]
  },
  {
   "cell_type": "code",
   "execution_count": null,
   "id": "02bf57d0",
   "metadata": {},
   "outputs": [],
   "source": [
    "success() = println(crayon\"#66ff66\", \"QUBO Success\", crayon\"#ffffff\");\n",
    "failure() = println(crayon\"#ff6666\", \"QUBO Failure\", crayon\"#ffffff\");"
   ]
  },
  {
   "cell_type": "code",
   "execution_count": null,
   "id": "31976d10",
   "metadata": {},
   "outputs": [],
   "source": [
    "include(\"../src/ToQUBO.jl\")\n",
    "\n",
    "qubo = ToQUBO.toqubo(model)\n",
    "\n",
    "ToQUBO.isqubo(qubo) ? success() : failure();\n",
    "\n",
    "print(qubo.model);\n",
    "\n",
    "gurobi = Gurobi.Optimizer();\n",
    "varmap = MOI.copy_to(gurobi, qubo.model);\n",
    "MOI.optimize!(gurobi);\n",
    "\n",
    "for xᵢ in MOI.get(gurobi, MOI.ListOfVariableIndices())\n",
    "    vᵢ = varmap[xᵢ]\n",
    "    if ToQUBO.isslack(qubo.target[vᵢ])\n",
    "        var = \"s\"\n",
    "    else\n",
    "        var = \"x\"\n",
    "    end\n",
    "    println(ToQUBO.subscript(vᵢ, var=var), \" = \", MOI.get(gurobi, MOI.VariablePrimal(), xᵢ));\n",
    "end"
   ]
  }
 ],
 "metadata": {
  "kernelspec": {
   "display_name": "Julia 1.7.0",
   "language": "julia",
   "name": "julia-1.7"
  },
  "language_info": {
   "file_extension": ".jl",
   "mimetype": "application/julia",
   "name": "julia",
   "version": "1.7.0"
  }
 },
 "nbformat": 4,
 "nbformat_minor": 5
}
