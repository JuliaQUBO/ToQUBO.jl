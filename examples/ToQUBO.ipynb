{
 "cells": [
  {
   "cell_type": "code",
   "execution_count": 11,
   "id": "931aa92e",
   "metadata": {},
   "outputs": [],
   "source": [
    "using MathOptInterface;\n",
    "const MOI = MathOptInterface;\n",
    "const MOIU = MOI.Utilities;"
   ]
  },
  {
   "cell_type": "markdown",
   "id": "06cbbfdf",
   "metadata": {},
   "source": [
    "$$\n",
    "\\begin{array}{rl}\n",
    "    \\max & \\mathbf{c}^{\\small\\mathbf{\\text{T}}}\\mathbf{x} \\\\\n",
    "    \\text{s.t.} & \\mathbf{w}^{\\small\\mathbf{\\text{T}}}\\mathbf{x} \\le C\\\\\n",
    "    ~ & \\mathbf{x}_i \\in \\{0, 1\\}\n",
    "\\end{array}\n",
    "$$"
   ]
  },
  {
   "cell_type": "code",
   "execution_count": 13,
   "id": "8657ad93",
   "metadata": {},
   "outputs": [
    {
     "data": {
      "text/latex": [
       "$$ \\begin{aligned}\n",
       "\\max\\quad & 0.0 + 1.0 v_{1} + 2.0 v_{2} + 3.0 v_{3} \\\\\n",
       "\\text{Subject to}\\\\\n",
       " & \\text{ScalarAffineFunction{Float64}-in-LessThan{Float64}} \\\\\n",
       " & 0.0 + 0.3 v_{1} + 0.5 v_{2} + 1.0 v_{3} \\le 3.2 \\\\\n",
       " & \\text{VariableIndex-in-ZeroOne} \\\\\n",
       " & v_{1} \\in \\{0, 1\\} \\\\\n",
       " & v_{2} \\in \\{0, 1\\} \\\\\n",
       " & v_{3} \\in \\{0, 1\\} \\\\\n",
       "\\end{aligned} $$"
      ]
     },
     "metadata": {},
     "output_type": "display_data"
    }
   ],
   "source": [
    "# Model definition\n",
    "# References:\n",
    "# [1] https://jump.dev/MathOptInterface.jl/stable/tutorials/example/\n",
    "\n",
    "model = MOIU.Model{Float64}()\n",
    "\n",
    "n = 3;\n",
    "c = [1.0, 2.0, 3.0];\n",
    "w = [0.3, 0.5, 1.0];\n",
    "C = 3.2;\n",
    "\n",
    "x = MOI.add_variables(model, n);\n",
    "\n",
    "# ---------\n",
    "# Objective\n",
    "# ---------\n",
    "MOI.set(model, MOI.ObjectiveSense(), MOI.MAX_SENSE)\n",
    "\n",
    "MOI.set(\n",
    "   model,\n",
    "   MOI.ObjectiveFunction{MOI.ScalarAffineFunction{Float64}}(),\n",
    "   MOI.ScalarAffineFunction(MOI.ScalarAffineTerm.(c, x), 0.0),\n",
    ");\n",
    "\n",
    "# -----------\n",
    "# Constraints\n",
    "# -----------\n",
    "MOI.add_constraint(\n",
    "   model,\n",
    "   MOI.ScalarAffineFunction(MOI.ScalarAffineTerm.(w, x), 0.0),\n",
    "   MOI.LessThan(C),\n",
    ");\n",
    "\n",
    "for xᵢ in x\n",
    "   MOI.add_constraint(model, xᵢ, MOI.ZeroOne())\n",
    "end\n",
    "\n",
    "print(model);"
   ]
  },
  {
   "cell_type": "code",
   "execution_count": 32,
   "id": "cd29ba98",
   "metadata": {},
   "outputs": [
    {
     "name": "stderr",
     "output_type": "stream",
     "text": [
      "WARNING: replacing module ToQUBO.\n"
     ]
    }
   ],
   "source": [
    "module ToQUBO\n",
    "    # -*- ToQUBO.jl -*-\n",
    "    using JuMP, MathOptInterface\n",
    "    const MOI = MathOptInterface\n",
    "    const MOIU = MathOptInterface.Utilities\n",
    "    const MOIB = MathOptInterface.Bridges\n",
    "\n",
    "    const SVF = MOI.SingleVariable\n",
    "    const VVF = MOI.VectorOfVariables\n",
    "    const SAF{T} = MOI.ScalarAffineFunction{T}\n",
    "    const VAF{T} = MOI.VectorAffineFunction{T}\n",
    "    const SQF{T} = MOI.ScalarQuadraticFunction{T}\n",
    "    const VQF{T} = MOI.VectorQuadraticFunction{T}\n",
    "\n",
    "    const VI = MOI.VariableIndex\n",
    "    const CI = MOI.ConstraintIndex\n",
    "\n",
    "    # -*- structures.jl -*-\n",
    "    \"\"\"\n",
    "    Storing the problem as pairs {vars => constant} looks like a good a idea\n",
    "    \"\"\"\n",
    "    struct Posiform{T <: Real}\n",
    "        pairs::Dict{Tuple{VI}, T}\n",
    "        degree::Int\n",
    "    \n",
    "        function Posiform(d::Dict{Tuple{VI}, T}) where {T}\n",
    "            return new{T}(d, 0)\n",
    "        end\n",
    "    end\n",
    "\n",
    "    mutable struct QUBOModel{T}\n",
    "        invert_sense::Bool\n",
    "    \n",
    "        function QUBOModel{T}() where {T}\n",
    "            return new{T}(false)\n",
    "        end\n",
    "    end\n",
    "\n",
    "    # -*- supported.jl -*-\n",
    "\n",
    "    # Objective Support\n",
    "    function supported_objective(model::MOI.ModelLike)\n",
    "        F = MOI.get(model, MOI.ObjectiveFunctionType())\n",
    "        if !__supported_objective(F)\n",
    "            error(\"Objective functions of type \", F, \" are not implemented\")\n",
    "        end\n",
    "        return\n",
    "    end\n",
    "\n",
    "    __supported_objective(::Type) = false\n",
    "\n",
    "    # Constraint Support\n",
    "    function supported_constraints(model::MOI.ModelLike)\n",
    "        for (F, S) in MOI.get(model, MOI.ListOfConstraints())\n",
    "            if !__supported_constraint(F, S)\n",
    "                error(\n",
    "                    \"Constraints of function \",\n",
    "                    F,\n",
    "                    \" in the Set \",\n",
    "                    S,\n",
    "                    \" are not implemented\",\n",
    "                )\n",
    "            end\n",
    "        end\n",
    "        return\n",
    "    end\n",
    "\n",
    "    __supported_constraint(::Type, ::Type) = false\n",
    "\n",
    "    \n",
    "    # toqubo\n",
    "    \"\"\"\n",
    "    \"\"\"\n",
    "    function toqubo(model::MOI.ModelLike)\n",
    "    \n",
    "        # Support Validation\n",
    "        supported_objective(model)\n",
    "        supported_constraints(model)\n",
    "    \n",
    "        # Objective Sense\n",
    "        \n",
    "    end;\n",
    "end;\n",
    "\n",
    "#ToQUBO.toqubo(model)"
   ]
  },
  {
   "cell_type": "code",
   "execution_count": 8,
   "id": "555d69af",
   "metadata": {},
   "outputs": [
    {
     "data": {
      "text/latex": [
       "$$ \\begin{aligned}\n",
       "\\max\\quad & 0.0 + 1.0 v_{1} + 2.0 v_{2} + 3.0 v_{3} \\\\\n",
       "\\text{Subject to}\\\\\n",
       " & \\text{ScalarAffineFunction{Float64}-in-LessThan{Float64}} \\\\\n",
       " & 0.0 + 0.3 v_{1} + 0.5 v_{2} + 1.0 v_{3} \\le 3.2 \\\\\n",
       " & \\text{VariableIndex-in-ZeroOne} \\\\\n",
       " & v_{1} \\in \\{0, 1\\} \\\\\n",
       " & v_{2} \\in \\{0, 1\\} \\\\\n",
       " & v_{3} \\in \\{0, 1\\} \\\\\n",
       "\\end{aligned} $$"
      ]
     },
     "metadata": {},
     "output_type": "display_data"
    }
   ],
   "source": []
  },
  {
   "cell_type": "code",
   "execution_count": 73,
   "id": "bc60c0b8",
   "metadata": {},
   "outputs": [],
   "source": []
  },
  {
   "cell_type": "code",
   "execution_count": 74,
   "id": "3aae92bd",
   "metadata": {},
   "outputs": [
    {
     "name": "stdout",
     "output_type": "stream",
     "text": [
      "var: MathOptInterface.VariableIndex(1)\n",
      "var: MathOptInterface.VariableIndex(2)\n",
      "var: MathOptInterface.VariableIndex(3)\n",
      "(MathOptInterface.ScalarAffineFunction{Float64}, MathOptInterface.LessThan{Float64})\n"
     ]
    },
    {
     "data": {
      "text/plain": [
       "1-element Vector{Nothing}:\n",
       " nothing"
      ]
     },
     "execution_count": 74,
     "metadata": {},
     "output_type": "execute_result"
    }
   ],
   "source": [
    "toqubo(model)"
   ]
  }
 ],
 "metadata": {
  "kernelspec": {
   "display_name": "Julia 1.6.3",
   "language": "julia",
   "name": "julia-1.6"
  },
  "language_info": {
   "file_extension": ".jl",
   "mimetype": "application/julia",
   "name": "julia",
   "version": "1.6.3"
  }
 },
 "nbformat": 4,
 "nbformat_minor": 5
}
