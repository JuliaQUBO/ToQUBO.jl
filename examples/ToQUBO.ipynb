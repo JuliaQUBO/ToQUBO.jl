{
 "cells": [
  {
   "cell_type": "code",
   "execution_count": 85,
   "id": "931aa92e",
   "metadata": {},
   "outputs": [],
   "source": [
    "using Documenter;\n",
    "using Crayons;\n",
    "using Logging;\n",
    "using JuMP, MathOptInterface;\n",
    "using Gurobi;\n",
    "const MOI = MathOptInterface;\n",
    "const MOIU = MOI.Utilities;"
   ]
  },
  {
   "cell_type": "markdown",
   "id": "06cbbfdf",
   "metadata": {},
   "source": [
    "# LP Knapsack Problem\n",
    "\n",
    "$$\n",
    "\\begin{array}{rl}\n",
    "    \\max & \\mathbf{c}^{\\small\\mathbf{\\text{T}}}\\mathbf{x} \\\\\n",
    "    \\text{s.t.} & \\mathbf{w}^{\\small\\mathbf{\\text{T}}}\\mathbf{x} \\le C\\\\\n",
    "    ~ & \\mathbf{x}_i \\in \\{0, 1\\}\n",
    "\\end{array}\n",
    "$$"
   ]
  },
  {
   "cell_type": "code",
   "execution_count": 86,
   "id": "8657ad93",
   "metadata": {},
   "outputs": [],
   "source": [
    "# Model definition\n",
    "# References:\n",
    "# [1] https://jump.dev/MathOptInterface.jl/stable/tutorials/example/\n",
    "\n",
    "model = MOIU.Model{Float64}()\n",
    "\n",
    "n = 3;\n",
    "c = [1.0, 2.0, 3.0];\n",
    "w = [3.0, 5.0, 10.0];\n",
    "C = 32.0;\n",
    "\n",
    "x = MOI.add_variables(model, n);\n",
    "\n",
    "# ---------\n",
    "# Objective\n",
    "# ---------\n",
    "MOI.set(model, MOI.ObjectiveSense(), MOI.MAX_SENSE)\n",
    "\n",
    "MOI.set(\n",
    "   model,\n",
    "   MOI.ObjectiveFunction{MOI.ScalarAffineFunction{Float64}}(),\n",
    "   MOI.ScalarAffineFunction(MOI.ScalarAffineTerm.(c, x), 0.0),\n",
    ");\n",
    "\n",
    "# -----------\n",
    "# Constraints\n",
    "# -----------\n",
    "MOI.add_constraint(\n",
    "   model,\n",
    "   MOI.ScalarAffineFunction(MOI.ScalarAffineTerm.(w, x), 0.0),\n",
    "   MOI.LessThan(C),\n",
    ");\n",
    "\n",
    "for xᵢ in x\n",
    "   MOI.add_constraint(model, xᵢ, MOI.ZeroOne())\n",
    "end"
   ]
  },
  {
   "cell_type": "code",
   "execution_count": 87,
   "id": "cd29ba98",
   "metadata": {},
   "outputs": [
    {
     "name": "stderr",
     "output_type": "stream",
     "text": [
      "WARNING: replacing module ToQUBO.\n"
     ]
    },
    {
     "ename": "LoadError",
     "evalue": "LoadError: UndefVarError: VirtualVar not defined\nin expression starting at c:\\Users\\pedroxavier\\gits\\ToQUBO.jl\\src\\qubomodel.jl:1\nin expression starting at c:\\Users\\pedroxavier\\gits\\ToQUBO.jl\\src\\ToQUBO.jl:1",
     "output_type": "error",
     "traceback": [
      "LoadError: UndefVarError: VirtualVar not defined\nin expression starting at c:\\Users\\pedroxavier\\gits\\ToQUBO.jl\\src\\qubomodel.jl:1\nin expression starting at c:\\Users\\pedroxavier\\gits\\ToQUBO.jl\\src\\ToQUBO.jl:1",
      "",
      "Stacktrace:",
      " [1] top-level scope",
      "   @ c:\\Users\\pedroxavier\\gits\\ToQUBO.jl\\src\\qubomodel.jl:1",
      " [2] include(mod::Module, _path::String)",
      "   @ Base .\\Base.jl:418",
      " [3] include(x::String)",
      "   @ Main.ToQUBO c:\\Users\\pedroxavier\\gits\\ToQUBO.jl\\src\\ToQUBO.jl:1",
      " [4] top-level scope",
      "   @ c:\\Users\\pedroxavier\\gits\\ToQUBO.jl\\src\\ToQUBO.jl:31",
      " [5] include(fname::String)",
      "   @ Base.MainInclude .\\client.jl:451",
      " [6] top-level scope",
      "   @ In[87]:1",
      " [7] eval",
      "   @ .\\boot.jl:373 [inlined]",
      " [8] include_string(mapexpr::typeof(REPL.softscope), mod::Module, code::String, filename::String)",
      "   @ Base .\\loading.jl:1196"
     ]
    }
   ],
   "source": [
    "include(\"../src/ToQUBO.jl\")\n",
    "qubo = ToQUBO.toqubo(model)\n",
    "\n",
    "if ToQUBO.isqubo(qubo)\n",
    "    println(crayon\"#66ff66\", \"QUBO Success\", crayon\"#ffffff\")\n",
    "else\n",
    "    println(crayon\"#ff6666\", \"QUBO Failure\", crayon\"#ffffff\")\n",
    "end"
   ]
  },
  {
   "cell_type": "code",
   "execution_count": null,
   "id": "99fda735",
   "metadata": {},
   "outputs": [],
   "source": []
  }
 ],
 "metadata": {
  "kernelspec": {
   "display_name": "Julia 1.7.0",
   "language": "julia",
   "name": "julia-1.7"
  },
  "language_info": {
   "file_extension": ".jl",
   "mimetype": "application/julia",
   "name": "julia",
   "version": "1.7.0"
  }
 },
 "nbformat": 4,
 "nbformat_minor": 5
}
