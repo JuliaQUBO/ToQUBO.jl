{
 "cells": [
  {
   "cell_type": "code",
   "execution_count": null,
   "id": "cd2dec47",
   "metadata": {},
   "outputs": [],
   "source": [
    "using ToQUBO\n",
    "import MathOptInterface\n",
    "const MOI = MathOptInterface\n",
    "const MOIU = MOI.Utilities"
   ]
  },
  {
   "cell_type": "markdown",
   "id": "06cbbfdf",
   "metadata": {},
   "source": [
    "# LP Knapsack Problem\n",
    "\n",
    "$$\n",
    "\\begin{array}{rl}\n",
    "    \\max & \\mathbf{c}^{\\small\\mathbf{\\text{T}}}\\mathbf{x} \\\\\n",
    "    \\text{s.t.} & \\mathbf{w}^{\\small\\mathbf{\\text{T}}}\\mathbf{x} \\le C\\\\\n",
    "    ~ & \\mathbf{x}_i \\in \\{0, 1\\}\n",
    "\\end{array}\n",
    "$$"
   ]
  },
  {
   "cell_type": "code",
   "execution_count": null,
   "id": "55f077d7",
   "metadata": {},
   "outputs": [],
   "source": [
    "include(\"../test/models/knapsack.jl\")\n",
    "print(Knapsack.model)"
   ]
  },
  {
   "cell_type": "code",
   "execution_count": null,
   "id": "02e117ab",
   "metadata": {},
   "outputs": [],
   "source": [
    "𝒬 = toqubo(Knapsack.model)"
   ]
  },
  {
   "cell_type": "code",
   "execution_count": null,
   "id": "d5c92ed1",
   "metadata": {},
   "outputs": [],
   "source": [
    "print(𝒬.model)"
   ]
  },
  {
   "cell_type": "code",
   "execution_count": null,
   "id": "be75a929",
   "metadata": {},
   "outputs": [],
   "source": [
    "SimulatedAnnealer{}"
   ]
  },
  {
   "cell_type": "code",
   "execution_count": null,
   "id": "7729b5d6",
   "metadata": {},
   "outputs": [],
   "source": []
  }
 ],
 "metadata": {
  "kernelspec": {
   "display_name": "Julia 1.7.0",
   "language": "julia",
   "name": "julia-1.7"
  },
  "language_info": {
   "file_extension": ".jl",
   "mimetype": "application/julia",
   "name": "julia",
   "version": "1.7.0"
  }
 },
 "nbformat": 4,
 "nbformat_minor": 5
}
