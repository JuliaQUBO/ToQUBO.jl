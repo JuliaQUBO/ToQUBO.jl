{
 "cells": [
  {
   "cell_type": "code",
   "execution_count": 1,
   "id": "931aa92e",
   "metadata": {},
   "outputs": [],
   "source": [
    "using JuMP, MathOptInterface, Gurobi;\n",
    "const MOI = MathOptInterface;\n",
    "const MOIU = MOI.Utilities;"
   ]
  },
  {
   "cell_type": "markdown",
   "id": "06cbbfdf",
   "metadata": {},
   "source": [
    "# LP Knapsack Problem\n",
    "\n",
    "$$\n",
    "\\begin{array}{rl}\n",
    "    \\max & \\mathbf{c}^{\\small\\mathbf{\\text{T}}}\\mathbf{x} \\\\\n",
    "    \\text{s.t.} & \\mathbf{w}^{\\small\\mathbf{\\text{T}}}\\mathbf{x} \\le C\\\\\n",
    "    ~ & \\mathbf{x}_i \\in \\{0, 1\\}\n",
    "\\end{array}\n",
    "$$"
   ]
  },
  {
   "cell_type": "code",
   "execution_count": 2,
   "id": "8657ad93",
   "metadata": {},
   "outputs": [],
   "source": [
    "# Model definition\n",
    "# References:\n",
    "# [1] https://jump.dev/MathOptInterface.jl/stable/tutorials/example/\n",
    "\n",
    "model = MOIU.Model{Float64}()\n",
    "\n",
    "n = 3;\n",
    "c = [1.0, 2.0, 3.0]\n",
    "w = [3.0, 5.0, 10.0]\n",
    "C = 32.0;\n",
    "\n",
    "x = MOI.add_variables(model, n);\n",
    "\n",
    "# ---------\n",
    "# Objective\n",
    "# ---------\n",
    "MOI.set(model, MOI.ObjectiveSense(), MOI.MAX_SENSE)\n",
    "\n",
    "MOI.set(\n",
    "   model,\n",
    "   MOI.ObjectiveFunction{MOI.ScalarAffineFunction{Float64}}(),\n",
    "   MOI.ScalarAffineFunction(MOI.ScalarAffineTerm.(c, x), 0.0),\n",
    ");\n",
    "\n",
    "# -----------\n",
    "# Constraints\n",
    "# -----------\n",
    "MOI.add_constraint(\n",
    "   model,\n",
    "   MOI.ScalarAffineFunction(MOI.ScalarAffineTerm.(w, x), 0.0),\n",
    "   MOI.LessThan(C),\n",
    ");\n",
    "\n",
    "for xᵢ in x\n",
    "   MOI.add_constraint(model, xᵢ, MOI.ZeroOne())\n",
    "end"
   ]
  },
  {
   "cell_type": "code",
   "execution_count": 7,
   "id": "31976d10",
   "metadata": {},
   "outputs": [
    {
     "name": "stdout",
     "output_type": "stream",
     "text": [
      "Set parameter Username\n",
      "Academic license - for non-commercial use only - expires 2022-02-02\n"
     ]
    },
    {
     "name": "stderr",
     "output_type": "stream",
     "text": [
      "WARNING: replacing module ToQUBO.\n"
     ]
    },
    {
     "ename": "LoadError",
     "evalue": "TypeError: in keyword argument var, expected Symbol, got a value of type String",
     "output_type": "error",
     "traceback": [
      "TypeError: in keyword argument var, expected Symbol, got a value of type String",
      "",
      "Stacktrace:",
      " [1] addvar(model::Main.ToQUBO.QUBOModel{Float64}, source::Nothing, bits::Int64; offset::Int64, var::Symbol)",
      "   @ Main.ToQUBO c:\\Users\\pedroxavier\\gits\\ToQUBO.jl\\src\\ToQUBO.jl:138",
      " [2] addslack(model::Main.ToQUBO.QUBOModel{Float64}, bits::Int64; offset::Int64, var::Symbol)",
      "   @ Main.ToQUBO c:\\Users\\pedroxavier\\gits\\ToQUBO.jl\\src\\ToQUBO.jl:154",
      " [3] addslack(model::Main.ToQUBO.QUBOModel{Float64}, bits::Int64)",
      "   @ Main.ToQUBO c:\\Users\\pedroxavier\\gits\\ToQUBO.jl\\src\\ToQUBO.jl:154",
      " [4] toqubo(model::MathOptInterface.Utilities.Model{Float64}, quantum::Bool)",
      "   @ Main.ToQUBO c:\\Users\\pedroxavier\\gits\\ToQUBO.jl\\src\\ToQUBO.jl:481",
      " [5] toqubo(model::MathOptInterface.Utilities.Model{Float64})",
      "   @ Main.ToQUBO c:\\Users\\pedroxavier\\gits\\ToQUBO.jl\\src\\ToQUBO.jl:315",
      " [6] top-level scope",
      "   @ In[7]:7",
      " [7] eval",
      "   @ .\\boot.jl:373 [inlined]",
      " [8] include_string(mapexpr::typeof(REPL.softscope), mod::Module, code::String, filename::String)",
      "   @ Base .\\loading.jl:1196"
     ]
    }
   ],
   "source": [
    "include(\"../src/ToQUBO.jl\")\n",
    "\n",
    "gurobi = Gurobi.Optimizer()\n",
    "\n",
    "MOI.set(gurobi, MOI.Silent(), true)\n",
    "\n",
    "qubo = ToQUBO.toqubo(model)\n",
    "\n",
    "for tᵢ in ToQUBO.solvequbo(qubo, model=gurobi)\n",
    "    (vᵢ, xᵢ) = tᵢ\n",
    "\n",
    "    println(\"$(vᵢ) = $(xᵢ)\")\n",
    "end"
   ]
  },
  {
   "cell_type": "code",
   "execution_count": null,
   "id": "b7561865",
   "metadata": {},
   "outputs": [
    {
     "name": "stdout",
     "output_type": "stream",
     "text": [
      "{\"5 8\": -0.0625, \"7 3\": -0.15625, \"5 1\": -0.01171875, \"2 3\": -0.09765625, \"6 2\": -0.0390625, \"4 2\": -0.009765625, \"5 6\": -0.015625, \"3\": 0.52783203125, \"5\": 0.12109375, \"1\": 0.17887369791666666, \"6\": 0.234375, \"4 1\": -0.005859375, \"2 8\": -0.15625, \"7 1\": -0.046875, \"2 1\": -0.029296875, \"4 7\": -0.015625, \"7 8\": -0.25, \"8\": 0.75, \"5 7\": -0.03125, \"7 2\": -0.078125, \"4 3\": -0.01953125, \"8 3\": -0.3125, \"6 7\": -0.0625, \"\": -1.0, \"8 1\": -0.09375, \"4\": 0.0615234375, \"6 1\": -0.0234375, \"5 3\": -0.0390625, \"7\": 0.4375, \"2\": 0.2884114583333333, \"3 1\": -0.05859375, \"6 3\": -0.078125, \"4 6\": -0.0078125, \"6 8\": -0.125, \"5 4\": -0.00390625, \"4 8\": -0.03125, \"5 2\": -0.01953125}\n"
     ]
    }
   ],
   "source": [
    "println(ToQUBO.tojson(qubo))"
   ]
  },
  {
   "cell_type": "code",
   "execution_count": null,
   "id": "c8a214d1",
   "metadata": {},
   "outputs": [],
   "source": []
  }
 ],
 "metadata": {
  "kernelspec": {
   "display_name": "Julia 1.7.0",
   "language": "julia",
   "name": "julia-1.7"
  },
  "language_info": {
   "file_extension": ".jl",
   "mimetype": "application/julia",
   "name": "julia",
   "version": "1.7.0"
  }
 },
 "nbformat": 4,
 "nbformat_minor": 5
}
