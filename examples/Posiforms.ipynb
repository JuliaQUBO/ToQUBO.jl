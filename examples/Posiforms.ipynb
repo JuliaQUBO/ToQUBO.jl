{
 "cells": [
  {
   "cell_type": "code",
   "execution_count": 1,
   "metadata": {},
   "outputs": [],
   "source": [
    "include(\"../src/posiform.jl\")\n",
    "using .Posiforms"
   ]
  },
  {
   "cell_type": "code",
   "execution_count": 2,
   "metadata": {},
   "outputs": [
    {
     "data": {
      "text/plain": [
       "Float64"
      ]
     },
     "execution_count": 2,
     "metadata": {},
     "output_type": "execute_result"
    }
   ],
   "source": [
    "const S = Int\n",
    "const T = Float64"
   ]
  },
  {
   "cell_type": "code",
   "execution_count": 3,
   "metadata": {},
   "outputs": [
    {
     "data": {
      "text/plain": [
       "term (generic function with 1 method)"
      ]
     },
     "execution_count": 3,
     "metadata": {},
     "output_type": "execute_result"
    }
   ],
   "source": [
    "term(x::S ...) = Set{S}(x)"
   ]
  },
  {
   "cell_type": "code",
   "execution_count": 4,
   "metadata": {},
   "outputs": [
    {
     "name": "stdout",
     "output_type": "stream",
     "text": [
      "p(x) = -4.2 x₃ + 3.0 x₁ + 2.3 x₂ - 0.7 x₃ x₁ - 1.2 x₂ x₃ + 0.5 x₂ x₁\n",
      "q(x) = 2.2 x₃ + 1.5 x₁ + 0.1 x₂ + 0.1 x₃ x₁ - 1.1 x₂ x₃ + 4.5 x₂ x₁\n",
      "p(x) + q(x) = -2.0 x₃ + 4.5 x₁ + 2.4 x₂ - 0.6 x₃ x₁ - 2.3 x₂ x₃ + 5.0 x₂ x₁\n"
     ]
    }
   ],
   "source": [
    "p = Posiform{S, T}(\n",
    "    [1] =>  3.0,\n",
    "    [2] =>  2.3,\n",
    "    [3] => -4.2,\n",
    "    [1, 2] =>  0.5,\n",
    "    [2, 3] => -1.2,\n",
    "    [1, 3] => -0.7\n",
    ")\n",
    "\n",
    "q = Posiform{S, T}(\n",
    "    [1] =>  1.5,\n",
    "    [2] =>  0.1,\n",
    "    [3] =>  2.2,\n",
    "    [1, 2] =>  4.5,\n",
    "    [2, 3] => -1.1,\n",
    "    [1, 3] =>  0.1\n",
    ")\n",
    "\n",
    "println(\"p(x) = $p\")\n",
    "println(\"q(x) = $q\")\n",
    "println(\"p(x) + q(x) = $(p + q)\")"
   ]
  },
  {
   "cell_type": "code",
   "execution_count": 5,
   "metadata": {},
   "outputs": [
    {
     "data": {
      "text/plain": [
       "Posiform{Int64, Float64} with 1 entry:\n",
       "  Set() => -3.1"
      ]
     },
     "execution_count": 5,
     "metadata": {},
     "output_type": "execute_result"
    }
   ],
   "source": [
    "p(Dict{S, T}(1 => 0.0, 2 => 1.0, 3 => 1.0))"
   ]
  }
 ],
 "metadata": {
  "kernelspec": {
   "display_name": "Julia 1.7.0",
   "language": "julia",
   "name": "julia-1.7"
  },
  "language_info": {
   "file_extension": ".jl",
   "mimetype": "application/julia",
   "name": "julia",
   "version": "1.7.0"
  },
  "orig_nbformat": 4
 },
 "nbformat": 4,
 "nbformat_minor": 2
}
