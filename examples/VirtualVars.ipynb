{
 "cells": [
  {
   "cell_type": "code",
   "execution_count": 1,
   "metadata": {},
   "outputs": [
    {
     "ename": "LoadError",
     "evalue": "LoadError: UndefVarError: MOI not defined\nin expression starting at c:\\Users\\pedroxavier\\gits\\ToQUBO.jl\\src\\virtualvar.jl:1",
     "output_type": "error",
     "traceback": [
      "LoadError: UndefVarError: MOI not defined\nin expression starting at c:\\Users\\pedroxavier\\gits\\ToQUBO.jl\\src\\virtualvar.jl:1",
      "",
      "Stacktrace:",
      " [1] top-level scope",
      "   @ c:\\Users\\pedroxavier\\gits\\ToQUBO.jl\\src\\virtualvar.jl:78",
      " [2] include(fname::String)",
      "   @ Base.MainInclude .\\client.jl:451",
      " [3] top-level scope",
      "   @ In[1]:1",
      " [4] eval",
      "   @ .\\boot.jl:373 [inlined]",
      " [5] include_string(mapexpr::typeof(REPL.softscope), mod::Module, code::String, filename::String)",
      "   @ Base .\\loading.jl:1196"
     ]
    }
   ],
   "source": [
    "include(\"../src/virtualvar.jl\")\n",
    "using .VirtualVars"
   ]
  }
 ],
 "metadata": {
  "kernelspec": {
   "display_name": "Julia 1.7.0",
   "language": "julia",
   "name": "julia-1.7"
  },
  "language_info": {
   "file_extension": ".jl",
   "mimetype": "application/julia",
   "name": "julia",
   "version": "1.7.0"
  },
  "orig_nbformat": 4
 },
 "nbformat": 4,
 "nbformat_minor": 2
}
